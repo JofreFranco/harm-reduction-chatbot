{
 "cells": [
  {
   "cell_type": "markdown",
   "metadata": {},
   "source": [
    "# Installing dependencies"
   ]
  },
  {
   "cell_type": "code",
   "execution_count": 12,
   "metadata": {},
   "outputs": [],
   "source": [
    "# !pip install langchain -q\n",
    "# !pip install openai -q\n",
    "# !pip install PyPDF2 -q\n",
    "# !pip install faiss-cpu -q\n",
    "# !pip install tiktoken -q\n",
    "# !pip install python-dotenv -q\n",
    "# !pip install langchain_openai -q\n",
    "# !pip install chromadb -q\n",
    "# !pip install beautifulsoup4 -q\n",
    "# !pip install playwright -q\n",
    "# !playwright install\n",
    "# !pip install unstructured -q\n",
    "# !pip install html2text -q\n",
    "# !pip install clean-text -q\n",
    "# !pip uninstall emoji -y -q\n",
    "# !pip install emoji==1.7 -q\n",
    "# !pip install Unidecode -q\n",
    "# !pip install spacy -q\n",
    "# !python -m spacy download en_core_web_lg\n",
    "# !python -m spacy download es_core_news_lg\n",
    "# !pip install scikit-learn -q\n",
    "# !pip install matplotlib -q\n",
    "# !pip install yellowbrick   -q"
   ]
  },
  {
   "cell_type": "markdown",
   "metadata": {},
   "source": [
    "# API KEYS"
   ]
  },
  {
   "cell_type": "code",
   "execution_count": 2,
   "metadata": {},
   "outputs": [
    {
     "data": {
      "text/plain": [
       "True"
      ]
     },
     "execution_count": 2,
     "metadata": {},
     "output_type": "execute_result"
    }
   ],
   "source": [
    "from dotenv import load_dotenv\n",
    "load_dotenv()"
   ]
  },
  {
   "cell_type": "markdown",
   "metadata": {},
   "source": [
    "# Sources"
   ]
  },
  {
   "cell_type": "markdown",
   "metadata": {},
   "source": [
    "## Harm Reduction association"
   ]
  },
  {
   "cell_type": "code",
   "execution_count": 1,
   "metadata": {},
   "outputs": [],
   "source": [
    "from PyPDF2 import PdfReader\n",
    "from langchain.docstore.document import Document"
   ]
  },
  {
   "cell_type": "code",
   "execution_count": 2,
   "metadata": {},
   "outputs": [],
   "source": [
    "SOURCES = \"./sources/\"\n",
    "PRINCIPLES = \"NHRC-PDF-Principles_Of_Harm_Reduction.pdf\""
   ]
  },
  {
   "cell_type": "code",
   "execution_count": 3,
   "metadata": {},
   "outputs": [],
   "source": [
    "pdf_reader = PdfReader(SOURCES + PRINCIPLES)"
   ]
  },
  {
   "cell_type": "code",
   "execution_count": 4,
   "metadata": {},
   "outputs": [],
   "source": [
    "principles_text = \"\"\n",
    "for page in pdf_reader.pages:\n",
    "    text = page.extract_text()\n",
    "    if text:\n",
    "        principles_text += text\n",
    "\n",
    "\n",
    "principles_doc =  Document(page_content=principles_text, metadata={\"source\": \"https://harmreduction.org/about-us/principles-of-harm-reduction/\", \"lang\":\"en\"})\n"
   ]
  },
  {
   "cell_type": "markdown",
   "metadata": {},
   "source": [
    "## El gato y la caja"
   ]
  },
  {
   "cell_type": "code",
   "execution_count": 5,
   "metadata": {},
   "outputs": [],
   "source": [
    "import requests\n",
    "from bs4 import BeautifulSoup\n",
    " \n",
    " \n",
    "url = 'https://elgatoylacaja.com/sobredrogas/indice'\n",
    "reqs = requests.get(url)\n",
    "soup = BeautifulSoup(reqs.text, 'html.parser')\n",
    " \n",
    "urls = []\n",
    "for link in soup.find_all('a'):\n",
    "    if link.get('href') == \"/potencial-cientifico-terapeutico-de-los-psicodelicos\":\n",
    "        urls.append(\"https://elgatoylacaja.com\" + link.get('href').replace(\"sobredrogas\",\"\"))\n",
    "    else:\n",
    "        urls.append(\"https://elgatoylacaja.com/sobredrogas\" + link.get('href').replace(\"sobredrogas\",\"\"))"
   ]
  },
  {
   "cell_type": "code",
   "execution_count": 6,
   "metadata": {},
   "outputs": [],
   "source": [
    "from langchain_community.document_loaders import UnstructuredURLLoader\n",
    "\n",
    "loader = UnstructuredURLLoader(urls=urls)\n",
    "data = loader.load()"
   ]
  },
  {
   "cell_type": "code",
   "execution_count": 7,
   "metadata": {},
   "outputs": [],
   "source": [
    "from langchain_community.document_transformers import Html2TextTransformer\n",
    "\n",
    "html2text = Html2TextTransformer()\n",
    "docs_transformed = html2text.transform_documents(data)\n",
    "\n",
    "for doc in docs_transformed:\n",
    "    doc.metadata[\"lang\"] = \"es\"\n",
    "\n",
    "docs_transformed += [principles_doc]"
   ]
  },
  {
   "cell_type": "markdown",
   "metadata": {},
   "source": [
    "# Chunking"
   ]
  },
  {
   "cell_type": "code",
   "execution_count": 8,
   "metadata": {},
   "outputs": [],
   "source": [
    "from langchain.text_splitter import  RecursiveCharacterTextSplitter\n",
    "from langchain.text_splitter import SpacyTextSplitter\n",
    "from cleantext import clean"
   ]
  },
  {
   "cell_type": "code",
   "execution_count": 37,
   "metadata": {},
   "outputs": [
    {
     "name": "stderr",
     "output_type": "stream",
     "text": [
      "/home/franco/Documents/Proyectos/harm-reduction-chatbot/.venv/lib/python3.10/site-packages/spacy/pipeline/lemmatizer.py:211: UserWarning: [W108] The rule-based lemmatizer did not find POS annotation for one or more tokens. Check that your pipeline includes components that assign token.pos, typically 'tagger'+'attribute_ruler' or 'morphologizer'.\n",
      "  warnings.warn(Warnings.W108)\n"
     ]
    }
   ],
   "source": [
    "for doc in docs_transformed:\n",
    "\n",
    "        if doc.metadata[\"lang\"] == \"en\":\n",
    "            sep_docs = en.split_documents([doc])\n",
    "        elif doc.metadata[\"lang\"] == \"es\":\n",
    "            sep_docs = es.split_documents([doc])"
   ]
  },
  {
   "cell_type": "code",
   "execution_count": 40,
   "metadata": {},
   "outputs": [],
   "source": [
    "\n",
    "def cleaner(doc):\n",
    "    text = doc.page_content\n",
    "    cleaned_text = clean(text,\n",
    "    fix_unicode=True,               \n",
    "    lower=True,                     \n",
    "    no_line_breaks=True,           \n",
    "    no_urls=True,                  \n",
    "    no_emails=True,                \n",
    "    no_punct=True,                 \n",
    "    replace_with_punct=\"\",          \n",
    "    replace_with_url=\"\",\n",
    "    replace_with_email=\"\",\n",
    "    lang=\"en\"\n",
    ")\n",
    "    # cleaned_text = clean(text, clean_html=True, clean_special_chars=True,clean_non_text=True, no_line_breaks=False)\n",
    "    doc.page_content = cleaned_text\n",
    "    return doc\n",
    "en = SpacyTextSplitter(pipeline=\"en_core_web_lg\")\n",
    "es = SpacyTextSplitter(pipeline=\"es_core_news_lg\") \n",
    "def split_and_clean(docs):\n",
    "    new_docs = []\n",
    "    for doc in docs:\n",
    "\n",
    "        if doc.metadata[\"lang\"] == \"en\":\n",
    "            sep_docs = en.split_documents([doc])\n",
    "        elif doc.metadata[\"lang\"] == \"es\":\n",
    "            sep_docs = es.split_documents([doc])\n",
    "\n",
    "        cleaned_docs = list(map(cleaner, sep_docs))\n",
    "        new_docs += cleaned_docs\n",
    "    return new_docs\n",
    "    "
   ]
  },
  {
   "cell_type": "code",
   "execution_count": null,
   "metadata": {},
   "outputs": [],
   "source": [
    "\n",
    "splitted_docs = split_and_clean(docs_transformed)"
   ]
  },
  {
   "cell_type": "markdown",
   "metadata": {},
   "source": [
    "# Vector DB"
   ]
  },
  {
   "cell_type": "code",
   "execution_count": 3,
   "metadata": {},
   "outputs": [],
   "source": [
    "from langchain.embeddings.openai import OpenAIEmbeddings\n",
    "from langchain_community.vectorstores import Chroma"
   ]
  },
  {
   "cell_type": "code",
   "execution_count": 4,
   "metadata": {},
   "outputs": [
    {
     "name": "stderr",
     "output_type": "stream",
     "text": [
      "/home/franco/Documents/Proyectos/harm-reduction-chatbot/.venv/lib/python3.10/site-packages/langchain_core/_api/deprecation.py:117: LangChainDeprecationWarning: The class `langchain_community.embeddings.openai.OpenAIEmbeddings` was deprecated in langchain-community 0.1.0 and will be removed in 0.2.0. An updated version of the class exists in the langchain-openai package and should be used instead. To use it run `pip install -U langchain-openai` and import as `from langchain_openai import OpenAIEmbeddings`.\n",
      "  warn_deprecated(\n"
     ]
    }
   ],
   "source": [
    "embeddings = OpenAIEmbeddings() # Embeddings model\n",
    "vectordb = Chroma(persist_directory=\"./chroma_db\", embedding_function=embeddings)\n",
    "retriever = vectordb.as_retriever(search_kwargs={\"k\": 7})"
   ]
  },
  {
   "cell_type": "code",
   "execution_count": null,
   "metadata": {},
   "outputs": [],
   "source": [
    "# Create the database\n",
    "# vectordb = Chroma.from_documents(documents=splitted_docs, embedding=OpenAIEmbeddings(), persist_directory=\"./chroma_db\")\n",
    "# retriever = vectordb.as_retriever(search_kwargs={\"k\": 7})"
   ]
  },
  {
   "cell_type": "code",
   "execution_count": 9,
   "metadata": {},
   "outputs": [],
   "source": [
    "import numpy as np\n",
    "from sklearn.manifold import TSNE\n",
    "import matplotlib.pyplot as plt"
   ]
  },
  {
   "cell_type": "markdown",
   "metadata": {},
   "source": [
    "There are some chunks which contains comments and citation. Since there is no information to respond questions about drugs in these chunks they should be eliminated. First Let's if we can find them automatically with tsne and outlier detection"
   ]
  },
  {
   "cell_type": "code",
   "execution_count": 238,
   "metadata": {},
   "outputs": [],
   "source": [
    "\n",
    "X = np.array(vectordb._collection.get(include=['embeddings'])[\"embeddings\"], dtype=np.float32)\n",
    "tsne = TSNE(random_state=0, n_iter=1000)\n",
    "tsne_results = tsne.fit_transform(X)\n"
   ]
  },
  {
   "cell_type": "code",
   "execution_count": 11,
   "metadata": {},
   "outputs": [
    {
     "data": {
      "text/plain": [
       "Text(0, 0.5, 'TSNE2')"
      ]
     },
     "execution_count": 11,
     "metadata": {},
     "output_type": "execute_result"
    },
    {
     "data": {
      "image/png": "[encoded data removed]",
      "text/plain": [
       "<Figure size 800x600 with 1 Axes>"
      ]
     },
     "metadata": {},
     "output_type": "display_data"
    }
   ],
   "source": [
    "fig, ax = plt.subplots(figsize=(8,6)) # Set figsize\n",
    "ax.scatter(tsne_results.T[0], tsne_results.T[1])\n",
    "plt.title('Scatter plot of chunks using t-SNE')\n",
    "plt.xlabel('TSNE1')\n",
    "plt.ylabel('TSNE2')\n"
   ]
  },
  {
   "cell_type": "code",
   "execution_count": 74,
   "metadata": {},
   "outputs": [],
   "source": [
    "!pip install cleanlab -q"
   ]
  },
  {
   "cell_type": "code",
   "execution_count": 76,
   "metadata": {},
   "outputs": [],
   "source": [
    "from cleanlab.outlier import OutOfDistribution"
   ]
  },
  {
   "cell_type": "code",
   "execution_count": 118,
   "metadata": {},
   "outputs": [
    {
     "name": "stdout",
     "output_type": "stream",
     "text": [
      "Fitting OOD estimator based on provided features ...\n"
     ]
    }
   ],
   "source": [
    "ood = OutOfDistribution()\n",
    "train_outlier_scores = ood.fit_score(features=X)"
   ]
  },
  {
   "cell_type": "code",
   "execution_count": 119,
   "metadata": {},
   "outputs": [
    {
     "data": {
      "text/plain": [
       "(array([ 1.,  0.,  0.,  0.,  0.,  0.,  1.,  1.,  1.,  0.,  1.,  0.,  0.,\n",
       "         2.,  4.,  4., 13., 14., 22., 26., 29., 32., 25., 12.,  9.]),\n",
       " array([0.80428714, 0.80935955, 0.81443197, 0.81950438, 0.82457674,\n",
       "        0.82964915, 0.83472157, 0.83979398, 0.84486639, 0.84993881,\n",
       "        0.85501117, 0.86008358, 0.86515599, 0.87022841, 0.87530082,\n",
       "        0.88037324, 0.88544559, 0.89051801, 0.89559042, 0.90066284,\n",
       "        0.90573525, 0.91080767, 0.91588002, 0.92095244, 0.92602485,\n",
       "        0.93109727]),\n",
       " <BarContainer object of 25 artists>)"
      ]
     },
     "execution_count": 119,
     "metadata": {},
     "output_type": "execute_result"
    },
    {
     "data": {
      "image/png": "[encoded data removed]",
      "text/plain": [
       "<Figure size 640x480 with 1 Axes>"
      ]
     },
     "metadata": {},
     "output_type": "display_data"
    }
   ],
   "source": [
    "plt.hist(train_outlier_scores, bins=25)"
   ]
  },
  {
   "cell_type": "markdown",
   "metadata": {},
   "source": [
    "I could not find a consistent way to eliminate the undesired chunks, but since there are not too many and there is no need to read the entire chunk to decide if it is necessary to remove it or not I will check each manually."
   ]
  },
  {
   "cell_type": "code",
   "execution_count": 20,
   "metadata": {},
   "outputs": [],
   "source": [
    "docs = vectordb._collection.get(include=['documents'])[\"documents\"]\n",
    "ids = vectordb._collection.get(include=['documents'])[\"ids\"]"
   ]
  },
  {
   "cell_type": "code",
   "execution_count": 245,
   "metadata": {},
   "outputs": [
    {
     "data": {
      "text/plain": [
       "197"
      ]
     },
     "execution_count": 245,
     "metadata": {},
     "output_type": "execute_result"
    }
   ],
   "source": [
    "import pandas as pd\n",
    "\n",
    "df = pd.DataFrame({\"text\": docs, \"ids\": ids})\n"
   ]
  },
  {
   "cell_type": "code",
   "execution_count": 247,
   "metadata": {},
   "outputs": [],
   "source": [
    "ids_to_remove = [0,3,4,5,17,31, 45, 67, 88, 97, 118, 126, 132, 140, 151, 158, 167, 172, 180, 185]"
   ]
  },
  {
   "cell_type": "code",
   "execution_count": 241,
   "metadata": {},
   "outputs": [],
   "source": [
    "df.set_index(\"ids\", inplace=True)"
   ]
  },
  {
   "cell_type": "code",
   "execution_count": 248,
   "metadata": {},
   "outputs": [],
   "source": [
    "df.drop(index=ids_to_remove, inplace=True)"
   ]
  },
  {
   "cell_type": "code",
   "execution_count": null,
   "metadata": {},
   "outputs": [],
   "source": [
    "from langchain_community.document_loaders import DataFrameLoader\n",
    "loader = DataFrameLoader(df, page_content_column=\"text\")\n"
   ]
  },
  {
   "cell_type": "code",
   "execution_count": 34,
   "metadata": {},
   "outputs": [],
   "source": [
    "# Load database\n",
    "embeddings = OpenAIEmbeddings() # Embeddings model\n",
    "vectordb = Chroma(persist_directory=\"./chroma_db\", embedding_function=embeddings)\n",
    "\n",
    "\n",
    "retriever = vectordb.as_retriever(search_type='similarity',search_kwargs={\"k\":7})"
   ]
  },
  {
   "cell_type": "code",
   "execution_count": null,
   "metadata": {},
   "outputs": [],
   "source": [
    "# Create the database\n",
    "# vectordb = Chroma.from_documents(documents=loader.load(), embedding=OpenAIEmbeddings(), persist_directory=\"./chroma_db\")\n",
    "# retriever = vectordb.as_retriever(search_kwargs={\"k\": 7, \"score_threshold\": 0.5})"
   ]
  },
  {
   "cell_type": "markdown",
   "metadata": {},
   "source": [
    "# Chain"
   ]
  },
  {
   "cell_type": "code",
   "execution_count": 8,
   "metadata": {},
   "outputs": [],
   "source": [
    "from langchain.llms import OpenAI\n",
    "from langchain_core.output_parsers import StrOutputParser\n",
    "from langchain_core.prompts import ChatPromptTemplate\n",
    "from langchain_core.runnables import RunnablePassthrough\n",
    "from langchain_openai import ChatOpenAI, OpenAIEmbeddings\n",
    "from langchain.memory import ConversationBufferMemory\n",
    "\n"
   ]
  },
  {
   "cell_type": "code",
   "execution_count": 28,
   "metadata": {},
   "outputs": [],
   "source": [
    "\n",
    "template = \"\"\"You are a harm reduction chatbot. You only should answer question about drugs based only on the given sources. Never recommend taking anything and if needed recommend seing a doctor or a speciallist:\n",
    "sources: \n",
    "{context}\n",
    "\n",
    "Question: {question}\n",
    "\n",
    "The chat history between you and the user might give you context about what the user is looking for:\n",
    "Chat history: {chat_history}\n",
    "\n",
    "Answer always in the language of the question\n",
    "\"\"\"\n",
    "prompt = ChatPromptTemplate.from_template(template)\n",
    "llm = ChatOpenAI(model_name=\"gpt-3.5-turbo\", temperature=0)"
   ]
  },
  {
   "cell_type": "markdown",
   "metadata": {},
   "source": [
    "\n",
    "Sometimes the chunks contains a lot of irrelevant information, so a contextual compression retriever is applied"
   ]
  },
  {
   "cell_type": "code",
   "execution_count": 29,
   "metadata": {},
   "outputs": [],
   "source": [
    "from langchain.retrievers import ContextualCompressionRetriever\n",
    "from langchain.retrievers.document_compressors import LLMChainExtractor\n",
    "compressor = LLMChainExtractor.from_llm(llm)\n",
    "compression_retriever = ContextualCompressionRetriever(\n",
    "    base_compressor=compressor, base_retriever=retriever\n",
    ")"
   ]
  },
  {
   "cell_type": "code",
   "execution_count": 31,
   "metadata": {},
   "outputs": [],
   "source": [
    "from langchain_core.runnables import RunnableParallel\n",
    "\n",
    "memory = ConversationBufferMemory(memory_key=\"chat_history\", return_messages=True)\n",
    "\n",
    "\n",
    "def format_docs(docs):\n",
    "\n",
    "    return \"\\n\\n\".join(doc.page_content for doc in docs)\n",
    "\n",
    "def get_memory(memory):\n",
    "    history = memory[\"chat_history\"]\n",
    "    l = []\n",
    "    if history:\n",
    "        for n, message in enumerate(history):\n",
    "            if n % 2 == 0:\n",
    "                l.append(f\"Human: {message.content}\")\n",
    "            else:\n",
    "                l.append(f\"AI: {message.content}\")\n",
    "            \n",
    "        return \"\\n\\n\".join(l)\n",
    "    else:\n",
    "        return \"\"\n",
    "\n",
    "rag_chain_from_docs = (\n",
    "    RunnablePassthrough.assign(context=(lambda x: format_docs(x[\"context\"])))\n",
    "    | RunnablePassthrough.assign(history=(lambda x: get_memory(x[\"chat_history\"])))\n",
    "    | prompt\n",
    "    | llm\n",
    "    | StrOutputParser()\n",
    ")\n",
    "\n",
    "rag_chain_with_source = RunnableParallel(\n",
    "    {\"context\": compression_retriever, \"question\": RunnablePassthrough(), \"chat_history\": memory.load_memory_variables}\n",
    ").assign(answer=rag_chain_from_docs)\n",
    "\n"
   ]
  },
  {
   "cell_type": "markdown",
   "metadata": {},
   "source": [
    "Let's try a basic question"
   ]
  },
  {
   "cell_type": "code",
   "execution_count": null,
   "metadata": {},
   "outputs": [],
   "source": [
    "output = rag_chain_with_source.invoke(\"What are the harm reduction principles?\")\n"
   ]
  },
  {
   "cell_type": "code",
   "execution_count": null,
   "metadata": {},
   "outputs": [
    {
     "data": {
      "text/plain": [
       "{'context': [Document(page_content='foundational principles central to harm reduction harm reduction is a set of practical strategies and ideas aimed at reducing negative consequences associated with drug use harm reduction is also a movement for social justice built on a belief in and respect for the rights of people who use drugs harm reduction incorporates a spectrum of strategies that includes safer use managed use abstinence meeting people who use drugs where theyre at and addressing conditions of use along with the use itself because harm reduction demands that interventions and policies designed to serve people who use drugs reflect specific individual and community needs there is no universal definition of or formula for implementing harm reduction however national harm reduction coalition considers the following principles central to harm reduction practice calls for the nonjudgmental noncoercive provision of services and resources to people who use drugs and the communities in which they live in order to assist them in reducing attendant harm ensures that people who use drugs and those with a history of drug use routinely have a real voice in the creation of programs and policies designed to serve them affirms people who use drugs pwud themselves as the primary agents of reducing the harms of their drug use and seeks to empower pwud to share information and support each other in strategies which meet their actual conditions of use recognizes that the realities of poverty class racism social isolation past trauma sexbased discrimination and other social inequalities affect both peoples vulnerability to and capacity for effectively dealing with drugrelated harm does not attempt to minimize or ignore the real and tragic harm and danger that can be associated with illicit drug use understands drug use as a complex multifaceted phenomenon that encompasses a continuum of behaviors from severe use to total abstinence and acknowledges that some ways of using drugs are clearly safer than others establishes quality of individual and community life and wellbeing not necessarily cessation of all drug use as the criteria for successful interventions and policies', metadata={'lang': 'en', 'source': 'https://harmreduction.org/about-us/principles-of-harm-reduction/'}),\n",
       "  Document(page_content='foundational principles central to harm reduction harm reduction is a set of practical strategies and ideas aimed at reducing negative consequences associated with drug use harm reduction is also a movement for social justice built on a belief in and respect for the rights of people who use drugs harm reduction incorporates a spectrum of strategies that includes safer use managed use abstinence meeting people who use drugs where theyre at and addressing conditions of use along with the use itself because harm reduction demands that interventions and policies designed to serve people who use drugs reflect specific individual and community needs there is no universal definition of or formula for implementing harm reduction however national harm reduction coalition considers the following principles central to harm reduction practice calls for the nonjudgmental noncoercive provision of services and resources to people who use drugs and the communities in which they live in order to assist them in reducing attendant harm ensures that people who use drugs and those with a history of drug use routinely have a real voice in the creation of programs and policies designed to serve them affirms people who use drugs pwud themselves as the primary agents of reducing the harms of their drug use and seeks to empower pwud to share information and support each other in strategies which meet their actual conditions of use recognizes that the realities of poverty class racism social isolation past trauma sexbased discrimination and other social inequalities affect both peoples vulnerability to and capacity for effectively dealing with drugrelated harm does not attempt to minimize or ignore the real and tragic harm and danger that can be associated with illicit drug use understands drug use as a complex multifaceted phenomenon that encompasses a continuum of behaviors from severe use to total abstinence and acknowledges that some ways of using drugs are clearly safer than others establishes quality of individual and community life and wellbeing not necessarily cessation of all drug use as the criteria for successful interventions and policies', metadata={'ids': 'd17a01d3-ccef-11ee-a945-5b877518f648'}),\n",
       "  Document(page_content='- este modelo es un conjunto de ideas y estrategias orientadas a reducir las consecuencias negativas de ciertos comportamientos humanos\\n- en el ambito de las drogas este modelo entiende que el fenomeno del consumo es complejo multifacetico y que es parte de la realidad de nuestro mundo y elige minimizar los riesgos y los danos asociados al consumo de los usuarios en lugar de ignorarlos o perseguirlos sin que esto implique de ninguna manera restarle importancia al real peligro asociado al uso de sustancias psicoactivas', metadata={'lang': 'es', 'source': 'https://elgatoylacaja.com/sobredrogas/que-es-la-reduccion-de-riesgos-y-danos'}),\n",
       "  Document(page_content='- este modelo es un conjunto de ideas y estrategias orientadas a reducir las consecuencias negativas de ciertos comportamientos humanos\\n- en el ambito de las drogas este modelo entiende que el fenomeno del consumo es complejo multifacetico y que es parte de la realidad de nuestro mundo y elige minimizar los riesgos y los danos asociados al consumo de los usuarios en lugar de ignorarlos o perseguirlos sin que esto implique de ninguna manera restarle importancia al real peligro asociado al uso de sustancias psicoactivas', metadata={'ids': 'd17a01af-ccef-11ee-a945-5b877518f648'}),\n",
       "  Document(page_content='- desde esta perspectiva se interpreta que el consumo de drogas es en parte una realidad inevitable para nuestras sociedades de consumo y por lo tanto la idea de un mundo libre de drogas no solo resulta una meta imposible sino tambien ingenua ante esta realidad la alternativa consiste en aceptar este hecho y trabajar con la poblacion consumidora de drogas que no esta dispuesta a abandonar sus practicas con el objetivo de que disminuyan sus conductas de riesgo y como consecuencia los danos asociados al consumo', metadata={'lang': 'es', 'source': 'https://elgatoylacaja.com/sobredrogas/nacimiento-y-crisis-del-prohibicionismo'}),\n",
       "  Document(page_content='reduccion de danos', metadata={'ids': 'd17a0145-ccef-11ee-a945-5b877518f648'})],\n",
       " 'question': 'What are the harm reduction principles?',\n",
       " 'chat_history': {'chat_history': []},\n",
       " 'answer': 'The harm reduction principles include nonjudgmental and noncoercive provision of services, ensuring that people who use drugs have a voice in program creation, empowering individuals to reduce harm, addressing social inequalities that impact vulnerability, recognizing safer ways of drug use, and focusing on improving quality of life rather than complete abstinence.'}"
      ]
     },
     "execution_count": 339,
     "metadata": {},
     "output_type": "execute_result"
    }
   ],
   "source": [
    "output"
   ]
  },
  {
   "cell_type": "markdown",
   "metadata": {},
   "source": [
    "The documents retrieved are those related to the query. Now lets save the answer in the memory:"
   ]
  },
  {
   "cell_type": "code",
   "execution_count": 299,
   "metadata": {},
   "outputs": [],
   "source": [
    "memory.save_context({\"input\":output[\"question\"]}, {\"output\": output[\"answer\"]})"
   ]
  },
  {
   "cell_type": "markdown",
   "metadata": {},
   "source": [
    "If it is working then, the model should know what my last question was"
   ]
  },
  {
   "cell_type": "code",
   "execution_count": 300,
   "metadata": {},
   "outputs": [
    {
     "data": {
      "text/plain": [
       "{'context': [Document(page_content='police bystanders other participants how does the person present to these people how will they react case study jessica jessica has been using heroin on and off for the past 10 years jessica stopped using for a few months while she was with her ex but they recently broke up she is feeling depressed and anxious and is looking to use again she buys a bag and heads to the syringe exchange for some new points and heads to her encampment in a rush for more resources visit harmreductionorg harmreductioncoalitionrevised 2020 harmreductioncoalition harmreduction harmreduction', metadata={'lang': 'en', 'source': 'https://harmreduction.org/about-us/principles-of-harm-reduction/'}),\n",
       "  Document(page_content='comentario enviadotu comentario fue publicado muchas gracias ha ocurrido un errorcampos incompletos intente nuevamente que te parecio la nota', metadata={'lang': 'es', 'source': 'https://elgatoylacaja.com/sobredrogas/bases-neurofisiologicas-de-la-adiccion'}),\n",
       "  Document(page_content='cambridge uit cambridge rolles s y measham f 2011 questioning the method and utility of ranking drug harms in drug policy int j drug policy 224 243246 singleton n y strang j 2014 what would an evidence based drug policy be like bmj 349 g7493 van amsterdam j y otros 2010 ranking the harm of alcohol tobacco and illicit drugs for the individual and the population eur addict res 164 202207 van amsterdam j y otros 2015 european rating of drug harms j psychopharmacol 296 655660 capitulo 31critica al paradigma prohibicionista capitulo 33que es la reduccion de riesgos y danos texto agueda placenti bioquimica por estudio docente por vocacion torpe por naturaleza denme un destornillador y conquistare al mundo etiquetas agueda placenti danos terceros danos usuario droga multiples criterios naturaleza normas politicas publicas sustancias psicoactivas un libro sobre drogas que te parecio comentario enviadotu comentario fue publicado muchas gracias ha ocurrido un errorcampos incompletos intente nuevamente que te parecio la nota', metadata={'lang': 'es', 'source': 'https://elgatoylacaja.com/sobredrogas/como-medimos-los-danos-causados-por-las-drogas'}),\n",
       "  Document(page_content='hofmann a 1980 lsd my problem child vol 5 nueva york mcgrawhill nichols d e 2016 psychedelics pharmacol rev 682 264355 nutt d 2009 equasy an overlooked addiction with implications for the current debate on drug harms j psychopharmacol 231 3 ricaurte g a y otros 2002 severe dopaminergic neurotoxicity in primates after a common recreational dose regimen of mdma ecstasy science 2975590 22602263 retractado sessa b 2012 the psychedelic renaissance reassessing the role of psychedelic drugs in 21st century psychiatry and society londres muswell hill press tagliazucchi e y otros 2016 increased global functional connectivity correlates with lsdinduced egodissolution curr biol 26810431050 van amsterdam j y otros 2011 harm potential of magic mushroom use a review regul toxicol pharmacol 593 423429 capitulo 25cocaina capitulo 27drogas de diseno texto enzo tagliazucchi tw | fb licenciado y doctor en fisica investigador del conicet y profesor en la universidad nacional de san martin etiquetas cambios de estado de animo conciencia cultura distorsion perceptual empatia enzo tagliazucchi estado psicodelico psicodelia psicodelicos riesgos y marco legal tiempo y espacio un libro sobre drogas que te parecio comentario enviadotu comentario fue publicado muchas gracias ha ocurrido un errorcampos incompletos intente nuevamente que te parecio la nota', metadata={'lang': 'es', 'source': 'https://elgatoylacaja.com/sobredrogas/psicodelicos'})],\n",
       " 'question': 'What was my last question?',\n",
       " 'chat_history': {'chat_history': [HumanMessage(content='What are the harm reduction principles?'),\n",
       "   AIMessage(content='The harm reduction principles include the nonjudgmental and noncoercive provision of services to people who use drugs, ensuring that they have a voice in creating programs and policies, empowering them to reduce harm, recognizing social inequalities that affect vulnerability to harm, understanding drug use as a complex phenomenon, focusing on quality of life rather than total abstinence, accepting drug use as part of our world, and working to minimize harm associated with drug use.')]},\n",
       " 'answer': 'Your last question was \"What are the harm reduction principles?\"'}"
      ]
     },
     "execution_count": 300,
     "metadata": {},
     "output_type": "execute_result"
    }
   ],
   "source": [
    "rag_chain_with_source.invoke(\"What was my last question?\")"
   ]
  },
  {
   "cell_type": "markdown",
   "metadata": {},
   "source": [
    "Now we will try more complex questions in spanish"
   ]
  },
  {
   "cell_type": "code",
   "execution_count": 322,
   "metadata": {},
   "outputs": [],
   "source": [
    "memory.clear()"
   ]
  },
  {
   "cell_type": "code",
   "execution_count": 323,
   "metadata": {},
   "outputs": [
    {
     "name": "stdout",
     "output_type": "stream",
     "text": [
      "Los principios de la reducción de daños incluyen minimizar los riesgos y los daños asociados al consumo de drogas, brindar información y educación sobre el uso de sustancias, contemplar las circunstancias individuales y comunitarias de una región, y promover políticas basadas en evidencia científica.\n"
     ]
    }
   ],
   "source": [
    "output = rag_chain_with_source.invoke(\"cuáles son los principios de la reducción de daños?\")\n",
    "memory.save_context({\"input\":output[\"question\"]}, {\"output\": output[\"answer\"]})\n",
    "print(output[\"answer\"])"
   ]
  },
  {
   "cell_type": "code",
   "execution_count": 324,
   "metadata": {},
   "outputs": [
    {
     "name": "stdout",
     "output_type": "stream",
     "text": [
      "El paco es una forma de cocaina fumable que se obtiene a partir de las hojas de coca y otros componentes químicos. Es un producto con menos pureza que la cocaina y puede contener sustancias peligrosas como ácido de baterías, broncodilatadores, cafeína, solventes, amoniaco, queroseno, entre otros. Su composición puede variar según la región donde circule, lo que aumenta los riesgos para la salud de quienes lo consumen.\n"
     ]
    }
   ],
   "source": [
    "output = rag_chain_with_source.invoke(\"Qué es el paco?\")\n",
    "memory.save_context({\"input\":output[\"question\"]}, {\"output\": output[\"answer\"]})\n",
    "print(output[\"answer\"])"
   ]
  },
  {
   "cell_type": "code",
   "execution_count": 325,
   "metadata": {},
   "outputs": [
    {
     "name": "stdout",
     "output_type": "stream",
     "text": [
      "No, el crack es una forma de consumir la cocaína de manera fumada, mientras que el paco es una forma de cocaína fumable que se obtiene a partir de las hojas de coca y otros componentes químicos. Ambas son sustancias peligrosas con riesgos para la salud.\n"
     ]
    }
   ],
   "source": [
    "\n",
    "output = rag_chain_with_source.invoke(\"Es lo mismo que el crack?\")\n",
    "memory.save_context({\"input\":output[\"question\"]}, {\"output\": output[\"answer\"]})\n",
    "print(output[\"answer\"])"
   ]
  },
  {
   "cell_type": "code",
   "execution_count": 328,
   "metadata": {},
   "outputs": [
    {
     "name": "stdout",
     "output_type": "stream",
     "text": [
      "Sí, la marihuana puede causar adicción. Según estudios, se estima que alrededor del 9% de los usuarios que comienzan a consumir marihuana pueden desarrollar algún problema de dependencia a lo largo de su vida. Además, el riesgo de entrar en un consumo adictivo de marihuana se incrementa significativamente si el consumo es diario y varias veces al día. Es importante tener en cuenta que la adicción a la marihuana puede manifestarse con deseos compulsivos de consumir, dedicar mucho tiempo y recursos a buscar la droga, y experimentar síntomas de abstinencia al intentar dejar de consumirla.\n"
     ]
    }
   ],
   "source": [
    "output = rag_chain_with_source.invoke(\"La marihuana puede causar adiccion?\")\n",
    "memory.save_context({\"input\":output[\"question\"]}, {\"output\": output[\"answer\"]})\n",
    "print(output[\"answer\"])"
   ]
  },
  {
   "cell_type": "code",
   "execution_count": 329,
   "metadata": {},
   "outputs": [
    {
     "name": "stdout",
     "output_type": "stream",
     "text": [
      "Basándonos en las fuentes proporcionadas, el consumo de LSD conlleva riesgos asociados, como la posibilidad de tener un \"mal viaje\" que pueda resultar en un accidente o una experiencia traumática a corto o largo plazo. Además, el consumo de LSD en personas con trastornos psiquiátricos como psicosis o esquizofrenia puede inducir o empeorar estas condiciones. Aunque el LSD no se considera una sustancia adictiva, su consumo frecuente puede generar tolerancia y disminuir la potencia de sus efectos. También existe el riesgo legal, ya que en la mayoría de los países el LSD está penado por la ley. En resumen, el consumo de LSD no es seguro y puede tener consecuencias negativas para la salud y la vida de las personas. Si tienes dudas o necesitas más información, es recomendable consultar a un especialista.\n"
     ]
    }
   ],
   "source": [
    "output = rag_chain_with_source.invoke(\"Es seguro consumir LSD?\")\n",
    "memory.save_context({\"input\":output[\"question\"]}, {\"output\": output[\"answer\"]})\n",
    "print(output[\"answer\"])"
   ]
  }
 ],
 "metadata": {
  "kernelspec": {
   "display_name": ".venv",
   "language": "python",
   "name": "python3"
  },
  "language_info": {
   "codemirror_mode": {
    "name": "ipython",
    "version": 3
   },
   "file_extension": ".py",
   "mimetype": "text/x-python",
   "name": "python",
   "nbconvert_exporter": "python",
   "pygments_lexer": "ipython3",
   "version": "3.10.12"
  }
 },
 "nbformat": 4,
 "nbformat_minor": 2
}
