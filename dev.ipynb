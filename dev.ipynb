{
 "cells": [
  {
   "cell_type": "markdown",
   "metadata": {},
   "source": [
    "# Installing dependencies"
   ]
  },
  {
   "cell_type": "code",
   "execution_count": 131,
   "metadata": {},
   "outputs": [
    {
     "name": "stdout",
     "output_type": "stream",
     "text": [
      "Downloading Chromium 121.0.6167.57 (playwright build v1097)\u001b[2m from https://playwright.azureedge.net/builds/chromium/1097/chromium-linux.zip\u001b[22m\n",
      "\u001b[1G152.8 MiB [                    ] 0% 0.0s\u001b[0K\u001b[1G152.8 MiB [                    ] 0% 8.2s\u001b[0K\u001b[1G152.8 MiB [                    ] 0% 4.7s\u001b[0K\u001b[1G152.8 MiB [                    ] 1% 4.1s\u001b[0K\u001b[1G152.8 MiB [                    ] 1% 3.5s\u001b[0K\u001b[1G152.8 MiB [                    ] 1% 4.2s\u001b[0K\u001b[1G152.8 MiB [=                   ] 3% 3.1s\u001b[0K\u001b[1G152.8 MiB [=                   ] 3% 2.9s\u001b[0K\u001b[1G152.8 MiB [=                   ] 4% 3.0s\u001b[0K\u001b[1G152.8 MiB [=                   ] 4% 2.9s\u001b[0K\u001b[1G152.8 MiB [=                   ] 5% 3.6s\u001b[0K\u001b[1G152.8 MiB [=                   ] 6% 3.0s\u001b[0K\u001b[1G152.8 MiB [=                   ] 7% 2.9s\u001b[0K\u001b[1G152.8 MiB [==                  ] 7% 2.8s\u001b[0K\u001b[1G152.8 MiB [==                  ] 8% 3.2s\u001b[0K\u001b[1G152.8 MiB [==                  ] 8% 3.1s\u001b[0K\u001b[1G152.8 MiB [==                  ] 9% 3.0s\u001b[0K\u001b[1G152.8 MiB [==                  ] 10% 2.9s\u001b[0K\u001b[1G152.8 MiB [==                  ] 10% 2.8s\u001b[0K\u001b[1G152.8 MiB [==                  ] 11% 2.7s\u001b[0K\u001b[1G152.8 MiB [==                  ] 12% 2.7s\u001b[0K\u001b[1G152.8 MiB [===                 ] 13% 2.7s\u001b[0K\u001b[1G152.8 MiB [===                 ] 13% 2.6s\u001b[0K\u001b[1G152.8 MiB [===                 ] 14% 2.6s\u001b[0K\u001b[1G152.8 MiB [===                 ] 15% 2.5s\u001b[0K\u001b[1G152.8 MiB [===                 ] 16% 2.5s\u001b[0K\u001b[1G152.8 MiB [===                 ] 16% 2.4s\u001b[0K\u001b[1G152.8 MiB [====                ] 17% 2.4s\u001b[0K\u001b[1G152.8 MiB [====                ] 18% 2.4s\u001b[0K\u001b[1G152.8 MiB [====                ] 19% 2.3s\u001b[0K\u001b[1G152.8 MiB [====                ] 20% 2.3s\u001b[0K\u001b[1G152.8 MiB [====                ] 21% 2.2s\u001b[0K\u001b[1G152.8 MiB [====                ] 22% 2.2s\u001b[0K\u001b[1G152.8 MiB [=====               ] 22% 2.2s\u001b[0K\u001b[1G152.8 MiB [=====               ] 23% 2.2s\u001b[0K\u001b[1G152.8 MiB [=====               ] 24% 2.2s\u001b[0K\u001b[1G152.8 MiB [=====               ] 24% 2.1s\u001b[0K\u001b[1G152.8 MiB [=====               ] 25% 2.1s\u001b[0K\u001b[1G152.8 MiB [=====               ] 26% 2.1s\u001b[0K\u001b[1G152.8 MiB [=====               ] 27% 2.1s\u001b[0K\u001b[1G152.8 MiB [======              ] 27% 2.0s\u001b[0K\u001b[1G152.8 MiB [======              ] 28% 2.0s\u001b[0K\u001b[1G152.8 MiB [======              ] 29% 2.0s\u001b[0K\u001b[1G152.8 MiB [======              ] 30% 2.0s\u001b[0K\u001b[1G152.8 MiB [======              ] 31% 1.9s\u001b[0K\u001b[1G152.8 MiB [======              ] 32% 1.9s\u001b[0K\u001b[1G152.8 MiB [=======             ] 32% 1.9s\u001b[0K\u001b[1G152.8 MiB [=======             ] 33% 1.9s\u001b[0K\u001b[1G152.8 MiB [=======             ] 34% 1.8s\u001b[0K\u001b[1G152.8 MiB [=======             ] 35% 1.8s\u001b[0K\u001b[1G152.8 MiB [=======             ] 36% 1.8s\u001b[0K\u001b[1G152.8 MiB [=======             ] 37% 1.8s\u001b[0K\u001b[1G152.8 MiB [========            ] 37% 1.7s\u001b[0K\u001b[1G152.8 MiB [========            ] 38% 1.7s\u001b[0K\u001b[1G152.8 MiB [========            ] 39% 1.7s\u001b[0K\u001b[1G152.8 MiB [========            ] 40% 1.7s\u001b[0K\u001b[1G152.8 MiB [========            ] 41% 1.6s\u001b[0K\u001b[1G152.8 MiB [========            ] 42% 1.6s\u001b[0K\u001b[1G152.8 MiB [=========           ] 42% 1.6s\u001b[0K\u001b[1G152.8 MiB [=========           ] 43% 1.6s\u001b[0K\u001b[1G152.8 MiB [=========           ] 44% 1.5s\u001b[0K\u001b[1G152.8 MiB [=========           ] 45% 1.5s\u001b[0K\u001b[1G152.8 MiB [=========           ] 46% 1.5s\u001b[0K\u001b[1G152.8 MiB [=========           ] 47% 1.5s\u001b[0K\u001b[1G152.8 MiB [==========          ] 47% 1.4s\u001b[0K\u001b[1G152.8 MiB [==========          ] 48% 1.4s\u001b[0K\u001b[1G152.8 MiB [==========          ] 49% 1.4s\u001b[0K\u001b[1G152.8 MiB [==========          ] 50% 1.4s\u001b[0K\u001b[1G152.8 MiB [==========          ] 50% 1.3s\u001b[0K\u001b[1G152.8 MiB [==========          ] 51% 1.3s\u001b[0K\u001b[1G152.8 MiB [==========          ] 52% 1.3s\u001b[0K\u001b[1G152.8 MiB [===========         ] 52% 1.3s\u001b[0K\u001b[1G152.8 MiB [===========         ] 53% 1.3s\u001b[0K\u001b[1G152.8 MiB [===========         ] 54% 1.3s\u001b[0K\u001b[1G152.8 MiB [===========         ] 55% 1.2s\u001b[0K\u001b[1G152.8 MiB [===========         ] 56% 1.2s\u001b[0K\u001b[1G152.8 MiB [===========         ] 57% 1.2s\u001b[0K\u001b[1G152.8 MiB [============        ] 57% 1.2s\u001b[0K\u001b[1G152.8 MiB [============        ] 58% 1.1s\u001b[0K\u001b[1G152.8 MiB [============        ] 59% 1.1s\u001b[0K\u001b[1G152.8 MiB [============        ] 60% 1.1s\u001b[0K\u001b[1G152.8 MiB [============        ] 61% 1.0s\u001b[0K\u001b[1G152.8 MiB [============        ] 62% 1.0s\u001b[0K\u001b[1G152.8 MiB [=============       ] 63% 1.0s\u001b[0K\u001b[1G152.8 MiB [=============       ] 64% 1.0s\u001b[0K\u001b[1G152.8 MiB [=============       ] 65% 0.9s\u001b[0K\u001b[1G152.8 MiB [=============       ] 66% 0.9s\u001b[0K\u001b[1G152.8 MiB [=============       ] 67% 0.9s\u001b[0K\u001b[1G152.8 MiB [==============      ] 67% 0.9s\u001b[0K\u001b[1G152.8 MiB [==============      ] 68% 0.9s\u001b[0K\u001b[1G152.8 MiB [==============      ] 68% 0.8s\u001b[0K\u001b[1G152.8 MiB [==============      ] 69% 0.8s\u001b[0K\u001b[1G152.8 MiB [==============      ] 70% 0.8s\u001b[0K\u001b[1G152.8 MiB [==============      ] 71% 0.8s\u001b[0K\u001b[1G152.8 MiB [==============      ] 72% 0.8s\u001b[0K\u001b[1G152.8 MiB [===============     ] 72% 0.7s\u001b[0K\u001b[1G152.8 MiB [===============     ] 73% 0.7s\u001b[0K\u001b[1G152.8 MiB [===============     ] 74% 0.7s\u001b[0K\u001b[1G152.8 MiB [===============     ] 75% 0.7s\u001b[0K\u001b[1G152.8 MiB [===============     ] 76% 0.6s\u001b[0K\u001b[1G152.8 MiB [===============     ] 77% 0.6s\u001b[0K\u001b[1G152.8 MiB [================    ] 78% 0.6s\u001b[0K\u001b[1G152.8 MiB [================    ] 79% 0.6s\u001b[0K\u001b[1G152.8 MiB [================    ] 80% 0.5s\u001b[0K\u001b[1G152.8 MiB [================    ] 81% 0.5s\u001b[0K\u001b[1G152.8 MiB [=================   ] 82% 0.5s\u001b[0K\u001b[1G152.8 MiB [=================   ] 83% 0.5s\u001b[0K\u001b[1G152.8 MiB [=================   ] 83% 0.4s\u001b[0K\u001b[1G152.8 MiB [=================   ] 84% 0.4s\u001b[0K\u001b[1G152.8 MiB [=================   ] 85% 0.4s\u001b[0K\u001b[1G152.8 MiB [=================   ] 86% 0.4s\u001b[0K\u001b[1G152.8 MiB [=================   ] 87% 0.3s\u001b[0K\u001b[1G152.8 MiB [==================  ] 88% 0.3s\u001b[0K\u001b[1G152.8 MiB [==================  ] 89% 0.3s\u001b[0K\u001b[1G152.8 MiB [==================  ] 90% 0.3s\u001b[0K\u001b[1G152.8 MiB [==================  ] 91% 0.2s\u001b[0K\u001b[1G152.8 MiB [==================  ] 92% 0.2s\u001b[0K\u001b[1G152.8 MiB [=================== ] 92% 0.2s\u001b[0K\u001b[1G152.8 MiB [=================== ] 93% 0.2s\u001b[0K\u001b[1G152.8 MiB [=================== ] 94% 0.2s\u001b[0K\u001b[1G152.8 MiB [=================== ] 94% 0.1s\u001b[0K\u001b[1G152.8 MiB [=================== ] 95% 0.1s\u001b[0K\u001b[1G152.8 MiB [=================== ] 96% 0.1s\u001b[0K\u001b[1G152.8 MiB [=================== ] 97% 0.1s\u001b[0K\u001b[1G152.8 MiB [====================] 98% 0.1s\u001b[0K\u001b[1G152.8 MiB [====================] 98% 0.0s\u001b[0K\u001b[1G152.8 MiB [====================] 99% 0.0s\u001b[0K\u001b[1G152.8 MiB [====================] 100% 0.0s\u001b[0K\n",
      "Chromium 121.0.6167.57 (playwright build v1097) downloaded to /home/franco/.cache/ms-playwright/chromium-1097\n",
      "Downloading FFMPEG playwright build v1009\u001b[2m from https://playwright.azureedge.net/builds/ffmpeg/1009/ffmpeg-linux.zip\u001b[22m\n",
      "\u001b[1G2.6 MiB [                    ] 0% 0.0s\u001b[0K\u001b[1G2.6 MiB [===                 ] 16% 0.1s\u001b[0K\u001b[1G2.6 MiB [=======             ] 34% 0.1s\u001b[0K\u001b[1G2.6 MiB [===========         ] 54% 0.0s\u001b[0K\u001b[1G2.6 MiB [===============     ] 73% 0.0s\u001b[0K\u001b[1G2.6 MiB [====================] 99% 0.0s\u001b[0K\u001b[1G2.6 MiB [====================] 100% 0.0s\u001b[0K\n",
      "FFMPEG playwright build v1009 downloaded to /home/franco/.cache/ms-playwright/ffmpeg-1009\n",
      "Downloading Firefox 121.0 (playwright build v1438)\u001b[2m from https://playwright.azureedge.net/builds/firefox/1438/firefox-ubuntu-22.04.zip\u001b[22m\n",
      "\u001b[1G82.2 MiB [                    ] 0% 0.0s\u001b[0K\u001b[1G82.2 MiB [                    ] 0% 3.4s\u001b[0K\u001b[1G82.2 MiB [                    ] 1% 3.0s\u001b[0K\u001b[1G82.2 MiB [                    ] 1% 2.8s\u001b[0K\u001b[1G82.2 MiB [                    ] 2% 3.9s\u001b[0K\u001b[1G82.2 MiB [=                   ] 3% 3.3s\u001b[0K\u001b[1G82.2 MiB [=                   ] 3% 3.7s\u001b[0K\u001b[1G82.2 MiB [=                   ] 3% 3.8s\u001b[0K\u001b[1G82.2 MiB [=                   ] 4% 3.8s\u001b[0K\u001b[1G82.2 MiB [=                   ] 4% 5.2s\u001b[0K\u001b[1G82.2 MiB [=                   ] 5% 5.0s\u001b[0K\u001b[1G82.2 MiB [=                   ] 5% 4.8s\u001b[0K\u001b[1G82.2 MiB [=                   ] 6% 4.6s\u001b[0K\u001b[1G82.2 MiB [=                   ] 7% 4.4s\u001b[0K\u001b[1G82.2 MiB [==                  ] 7% 4.3s\u001b[0K\u001b[1G82.2 MiB [==                  ] 8% 4.1s\u001b[0K\u001b[1G82.2 MiB [==                  ] 9% 4.0s\u001b[0K\u001b[1G82.2 MiB [==                  ] 10% 3.9s\u001b[0K\u001b[1G82.2 MiB [==                  ] 10% 3.8s\u001b[0K\u001b[1G82.2 MiB [==                  ] 11% 3.7s\u001b[0K\u001b[1G82.2 MiB [==                  ] 11% 3.6s\u001b[0K\u001b[1G82.2 MiB [==                  ] 12% 3.5s\u001b[0K\u001b[1G82.2 MiB [===                 ] 12% 3.5s\u001b[0K\u001b[1G82.2 MiB [===                 ] 13% 3.4s\u001b[0K\u001b[1G82.2 MiB [===                 ] 14% 3.3s\u001b[0K\u001b[1G82.2 MiB [===                 ] 15% 3.2s\u001b[0K\u001b[1G82.2 MiB [===                 ] 16% 3.1s\u001b[0K\u001b[1G82.2 MiB [===                 ] 17% 3.1s\u001b[0K\u001b[1G82.2 MiB [====                ] 17% 3.0s\u001b[0K\u001b[1G82.2 MiB [====                ] 18% 3.0s\u001b[0K\u001b[1G82.2 MiB [====                ] 18% 2.9s\u001b[0K\u001b[1G82.2 MiB [====                ] 19% 2.9s\u001b[0K\u001b[1G82.2 MiB [====                ] 20% 2.8s\u001b[0K\u001b[1G82.2 MiB [====                ] 21% 2.8s\u001b[0K\u001b[1G82.2 MiB [====                ] 21% 2.7s\u001b[0K\u001b[1G82.2 MiB [=====               ] 22% 2.7s\u001b[0K\u001b[1G82.2 MiB [=====               ] 23% 2.6s\u001b[0K\u001b[1G82.2 MiB [=====               ] 24% 2.6s\u001b[0K\u001b[1G82.2 MiB [=====               ] 25% 2.5s\u001b[0K\u001b[1G82.2 MiB [=====               ] 26% 2.5s\u001b[0K\u001b[1G82.2 MiB [=====               ] 26% 2.4s\u001b[0K\u001b[1G82.2 MiB [======              ] 27% 2.4s\u001b[0K\u001b[1G82.2 MiB [======              ] 28% 2.4s\u001b[0K\u001b[1G82.2 MiB [======              ] 28% 2.3s\u001b[0K\u001b[1G82.2 MiB [======              ] 29% 2.3s\u001b[0K\u001b[1G82.2 MiB [======              ] 30% 2.3s\u001b[0K\u001b[1G82.2 MiB [======              ] 30% 2.2s\u001b[0K\u001b[1G82.2 MiB [======              ] 31% 2.2s\u001b[0K\u001b[1G82.2 MiB [======              ] 32% 2.2s\u001b[0K\u001b[1G82.2 MiB [=======             ] 32% 2.2s\u001b[0K\u001b[1G82.2 MiB [=======             ] 33% 2.1s\u001b[0K\u001b[1G82.2 MiB [=======             ] 34% 2.1s\u001b[0K\u001b[1G82.2 MiB [=======             ] 35% 2.0s\u001b[0K\u001b[1G82.2 MiB [=======             ] 36% 2.0s\u001b[0K\u001b[1G82.2 MiB [=======             ] 37% 2.0s\u001b[0K\u001b[1G82.2 MiB [========            ] 37% 1.9s\u001b[0K\u001b[1G82.2 MiB [========            ] 38% 1.9s\u001b[0K\u001b[1G82.2 MiB [========            ] 39% 1.9s\u001b[0K\u001b[1G82.2 MiB [========            ] 40% 1.8s\u001b[0K\u001b[1G82.2 MiB [========            ] 41% 1.8s\u001b[0K\u001b[1G82.2 MiB [=========           ] 42% 1.8s\u001b[0K\u001b[1G82.2 MiB [=========           ] 43% 1.7s\u001b[0K\u001b[1G82.2 MiB [=========           ] 44% 1.7s\u001b[0K\u001b[1G82.2 MiB [=========           ] 45% 1.6s\u001b[0K\u001b[1G82.2 MiB [=========           ] 46% 1.6s\u001b[0K\u001b[1G82.2 MiB [==========          ] 47% 1.6s\u001b[0K\u001b[1G82.2 MiB [==========          ] 48% 1.5s\u001b[0K\u001b[1G82.2 MiB [==========          ] 49% 1.5s\u001b[0K\u001b[1G82.2 MiB [==========          ] 50% 1.5s\u001b[0K\u001b[1G82.2 MiB [==========          ] 51% 1.5s\u001b[0K\u001b[1G82.2 MiB [==========          ] 52% 1.5s\u001b[0K\u001b[1G82.2 MiB [===========         ] 52% 1.4s\u001b[0K\u001b[1G82.2 MiB [===========         ] 53% 1.4s\u001b[0K\u001b[1G82.2 MiB [===========         ] 54% 1.4s\u001b[0K\u001b[1G82.2 MiB [===========         ] 55% 1.4s\u001b[0K\u001b[1G82.2 MiB [===========         ] 55% 1.3s\u001b[0K\u001b[1G82.2 MiB [===========         ] 56% 1.3s\u001b[0K\u001b[1G82.2 MiB [===========         ] 57% 1.3s\u001b[0K\u001b[1G82.2 MiB [============        ] 57% 1.3s\u001b[0K\u001b[1G82.2 MiB [============        ] 58% 1.3s\u001b[0K\u001b[1G82.2 MiB [============        ] 59% 1.2s\u001b[0K\u001b[1G82.2 MiB [============        ] 60% 1.2s\u001b[0K\u001b[1G82.2 MiB [============        ] 61% 1.2s\u001b[0K\u001b[1G82.2 MiB [============        ] 62% 1.2s\u001b[0K\u001b[1G82.2 MiB [=============       ] 62% 1.2s\u001b[0K\u001b[1G82.2 MiB [=============       ] 63% 1.1s\u001b[0K\u001b[1G82.2 MiB [=============       ] 64% 1.1s\u001b[0K\u001b[1G82.2 MiB [=============       ] 65% 1.1s\u001b[0K\u001b[1G82.2 MiB [=============       ] 66% 1.0s\u001b[0K\u001b[1G82.2 MiB [=============       ] 67% 1.0s\u001b[0K\u001b[1G82.2 MiB [==============      ] 67% 1.0s\u001b[0K\u001b[1G82.2 MiB [==============      ] 68% 1.0s\u001b[0K\u001b[1G82.2 MiB [==============      ] 69% 1.0s\u001b[0K\u001b[1G82.2 MiB [==============      ] 70% 0.9s\u001b[0K\u001b[1G82.2 MiB [==============      ] 71% 0.9s\u001b[0K\u001b[1G82.2 MiB [==============      ] 72% 0.9s\u001b[0K\u001b[1G82.2 MiB [===============     ] 72% 0.9s\u001b[0K\u001b[1G82.2 MiB [===============     ] 73% 0.9s\u001b[0K\u001b[1G82.2 MiB [===============     ] 73% 0.8s\u001b[0K\u001b[1G82.2 MiB [===============     ] 74% 0.8s\u001b[0K\u001b[1G82.2 MiB [===============     ] 75% 0.8s\u001b[0K\u001b[1G82.2 MiB [===============     ] 76% 0.7s\u001b[0K\u001b[1G82.2 MiB [================    ] 77% 0.7s\u001b[0K\u001b[1G82.2 MiB [================    ] 78% 0.7s\u001b[0K\u001b[1G82.2 MiB [================    ] 79% 0.7s\u001b[0K\u001b[1G82.2 MiB [================    ] 79% 0.6s\u001b[0K\u001b[1G82.2 MiB [================    ] 80% 0.6s\u001b[0K\u001b[1G82.2 MiB [================    ] 81% 0.6s\u001b[0K\u001b[1G82.2 MiB [================    ] 82% 0.6s\u001b[0K\u001b[1G82.2 MiB [=================   ] 82% 0.5s\u001b[0K\u001b[1G82.2 MiB [=================   ] 83% 0.5s\u001b[0K\u001b[1G82.2 MiB [=================   ] 84% 0.5s\u001b[0K\u001b[1G82.2 MiB [=================   ] 85% 0.5s\u001b[0K\u001b[1G82.2 MiB [=================   ] 86% 0.4s\u001b[0K\u001b[1G82.2 MiB [=================   ] 87% 0.4s\u001b[0K\u001b[1G82.2 MiB [==================  ] 87% 0.4s\u001b[0K\u001b[1G82.2 MiB [==================  ] 88% 0.4s\u001b[0K\u001b[1G82.2 MiB [==================  ] 89% 0.3s\u001b[0K\u001b[1G82.2 MiB [==================  ] 90% 0.3s\u001b[0K\u001b[1G82.2 MiB [==================  ] 91% 0.3s\u001b[0K\u001b[1G82.2 MiB [==================  ] 92% 0.2s\u001b[0K\u001b[1G82.2 MiB [=================== ] 92% 0.2s\u001b[0K\u001b[1G82.2 MiB [=================== ] 93% 0.2s\u001b[0K\u001b[1G82.2 MiB [=================== ] 94% 0.2s\u001b[0K\u001b[1G82.2 MiB [=================== ] 95% 0.1s\u001b[0K\u001b[1G82.2 MiB [=================== ] 96% 0.1s\u001b[0K\u001b[1G82.2 MiB [====================] 97% 0.1s\u001b[0K\u001b[1G82.2 MiB [====================] 98% 0.0s\u001b[0K\u001b[1G82.2 MiB [====================] 99% 0.0s\u001b[0K\u001b[1G82.2 MiB [====================] 100% 0.0s\u001b[0K\n",
      "Firefox 121.0 (playwright build v1438) downloaded to /home/franco/.cache/ms-playwright/firefox-1438\n",
      "Downloading Webkit 17.4 (playwright build v1967)\u001b[2m from https://playwright.azureedge.net/builds/webkit/1967/webkit-ubuntu-22.04.zip\u001b[22m\n",
      "\u001b[1G84.8 MiB [                    ] 0% 0.0s\u001b[0K\u001b[1G84.8 MiB [                    ] 0% 3.9s\u001b[0K\u001b[1G84.8 MiB [                    ] 1% 2.7s\u001b[0K\u001b[1G84.8 MiB [                    ] 1% 2.4s\u001b[0K\u001b[1G84.8 MiB [=                   ] 2% 2.3s\u001b[0K\u001b[1G84.8 MiB [=                   ] 3% 2.1s\u001b[0K\u001b[1G84.8 MiB [=                   ] 4% 2.0s\u001b[0K\u001b[1G84.8 MiB [=                   ] 5% 1.9s\u001b[0K\u001b[1G84.8 MiB [=                   ] 6% 1.9s\u001b[0K\u001b[1G84.8 MiB [=                   ] 7% 1.8s\u001b[0K\u001b[1G84.8 MiB [==                  ] 8% 1.8s\u001b[0K\u001b[1G84.8 MiB [==                  ] 9% 1.8s\u001b[0K\u001b[1G84.8 MiB [==                  ] 10% 1.7s\u001b[0K\u001b[1G84.8 MiB [==                  ] 11% 1.6s\u001b[0K\u001b[1G84.8 MiB [==                  ] 12% 1.6s\u001b[0K\u001b[1G84.8 MiB [===                 ] 13% 1.6s\u001b[0K\u001b[1G84.8 MiB [===                 ] 14% 1.5s\u001b[0K\u001b[1G84.8 MiB [===                 ] 15% 1.5s\u001b[0K\u001b[1G84.8 MiB [===                 ] 16% 1.5s\u001b[0K\u001b[1G84.8 MiB [====                ] 17% 1.5s\u001b[0K\u001b[1G84.8 MiB [====                ] 18% 1.4s\u001b[0K\u001b[1G84.8 MiB [====                ] 20% 1.4s\u001b[0K\u001b[1G84.8 MiB [====                ] 21% 1.3s\u001b[0K\u001b[1G84.8 MiB [====                ] 22% 1.3s\u001b[0K\u001b[1G84.8 MiB [=====               ] 23% 1.3s\u001b[0K\u001b[1G84.8 MiB [=====               ] 24% 1.3s\u001b[0K\u001b[1G84.8 MiB [=====               ] 25% 1.3s\u001b[0K\u001b[1G84.8 MiB [=====               ] 26% 1.2s\u001b[0K\u001b[1G84.8 MiB [======              ] 27% 1.2s\u001b[0K\u001b[1G84.8 MiB [======              ] 28% 1.2s\u001b[0K\u001b[1G84.8 MiB [======              ] 29% 1.2s\u001b[0K\u001b[1G84.8 MiB [======              ] 30% 1.2s\u001b[0K\u001b[1G84.8 MiB [======              ] 31% 1.3s\u001b[0K\u001b[1G84.8 MiB [=======             ] 32% 1.3s\u001b[0K\u001b[1G84.8 MiB [=======             ] 34% 1.2s\u001b[0K\u001b[1G84.8 MiB [=======             ] 35% 1.2s\u001b[0K\u001b[1G84.8 MiB [=======             ] 37% 1.1s\u001b[0K\u001b[1G84.8 MiB [========            ] 38% 1.1s\u001b[0K\u001b[1G84.8 MiB [========            ] 39% 1.1s\u001b[0K\u001b[1G84.8 MiB [========            ] 40% 1.0s\u001b[0K\u001b[1G84.8 MiB [========            ] 41% 1.0s\u001b[0K\u001b[1G84.8 MiB [========            ] 42% 1.0s\u001b[0K\u001b[1G84.8 MiB [=========           ] 44% 1.0s\u001b[0K\u001b[1G84.8 MiB [=========           ] 45% 0.9s\u001b[0K\u001b[1G84.8 MiB [=========           ] 46% 0.9s\u001b[0K\u001b[1G84.8 MiB [==========          ] 47% 0.9s\u001b[0K\u001b[1G84.8 MiB [==========          ] 48% 0.9s\u001b[0K\u001b[1G84.8 MiB [==========          ] 49% 0.9s\u001b[0K\u001b[1G84.8 MiB [==========          ] 50% 0.9s\u001b[0K\u001b[1G84.8 MiB [==========          ] 51% 0.9s\u001b[0K\u001b[1G84.8 MiB [===========         ] 52% 0.8s\u001b[0K\u001b[1G84.8 MiB [===========         ] 54% 0.8s\u001b[0K\u001b[1G84.8 MiB [===========         ] 55% 0.8s\u001b[0K\u001b[1G84.8 MiB [===========         ] 57% 0.8s\u001b[0K\u001b[1G84.8 MiB [============        ] 58% 0.7s\u001b[0K\u001b[1G84.8 MiB [============        ] 59% 0.7s\u001b[0K\u001b[1G84.8 MiB [============        ] 60% 0.7s\u001b[0K\u001b[1G84.8 MiB [============        ] 61% 0.7s\u001b[0K\u001b[1G84.8 MiB [=============       ] 63% 0.6s\u001b[0K\u001b[1G84.8 MiB [=============       ] 64% 0.6s\u001b[0K\u001b[1G84.8 MiB [=============       ] 65% 0.6s\u001b[0K\u001b[1G84.8 MiB [=============       ] 66% 0.6s\u001b[0K\u001b[1G84.8 MiB [==============      ] 67% 0.6s\u001b[0K\u001b[1G84.8 MiB [==============      ] 69% 0.5s\u001b[0K\u001b[1G84.8 MiB [==============      ] 70% 0.5s\u001b[0K\u001b[1G84.8 MiB [==============      ] 71% 0.5s\u001b[0K\u001b[1G84.8 MiB [==============      ] 72% 0.5s\u001b[0K\u001b[1G84.8 MiB [===============     ] 73% 0.4s\u001b[0K\u001b[1G84.8 MiB [===============     ] 75% 0.4s\u001b[0K\u001b[1G84.8 MiB [===============     ] 76% 0.4s\u001b[0K\u001b[1G84.8 MiB [================    ] 77% 0.4s\u001b[0K\u001b[1G84.8 MiB [================    ] 78% 0.4s\u001b[0K\u001b[1G84.8 MiB [================    ] 79% 0.3s\u001b[0K\u001b[1G84.8 MiB [================    ] 80% 0.3s\u001b[0K\u001b[1G84.8 MiB [================    ] 82% 0.3s\u001b[0K\u001b[1G84.8 MiB [=================   ] 83% 0.3s\u001b[0K\u001b[1G84.8 MiB [=================   ] 85% 0.3s\u001b[0K\u001b[1G84.8 MiB [=================   ] 86% 0.2s\u001b[0K\u001b[1G84.8 MiB [==================  ] 87% 0.2s\u001b[0K\u001b[1G84.8 MiB [==================  ] 88% 0.2s\u001b[0K\u001b[1G84.8 MiB [==================  ] 89% 0.2s\u001b[0K\u001b[1G84.8 MiB [==================  ] 91% 0.1s\u001b[0K\u001b[1G84.8 MiB [=================== ] 92% 0.1s\u001b[0K\u001b[1G84.8 MiB [=================== ] 93% 0.1s\u001b[0K\u001b[1G84.8 MiB [=================== ] 94% 0.1s\u001b[0K\u001b[1G84.8 MiB [=================== ] 95% 0.1s\u001b[0K\u001b[1G84.8 MiB [=================== ] 96% 0.1s\u001b[0K\u001b[1G84.8 MiB [=================== ] 97% 0.0s\u001b[0K\u001b[1G84.8 MiB [====================] 98% 0.0s\u001b[0K\u001b[1G84.8 MiB [====================] 99% 0.0s\u001b[0K\u001b[1G84.8 MiB [====================] 100% 0.0s\u001b[0K\n",
      "Webkit 17.4 (playwright build v1967) downloaded to /home/franco/.cache/ms-playwright/webkit-1967\n"
     ]
    }
   ],
   "source": [
    "# !pip install langchain -q\n",
    "# !pip install openai -q\n",
    "# !pip install PyPDF2 -q\n",
    "# !pip install faiss-cpu -q\n",
    "# !pip install tiktoken -q\n",
    "# !pip install python-dotenv -q\n",
    "# !pip install langchain_openai -q\n",
    "# !pip install chromadb -q\n",
    "# !pip install beautifulsoup4 -q\n",
    "# !pip install playwright -q\n",
    "# !playwright install"
   ]
  },
  {
   "cell_type": "markdown",
   "metadata": {},
   "source": [
    "# API KEYS"
   ]
  },
  {
   "cell_type": "code",
   "execution_count": 1,
   "metadata": {},
   "outputs": [
    {
     "data": {
      "text/plain": [
       "True"
      ]
     },
     "execution_count": 1,
     "metadata": {},
     "output_type": "execute_result"
    }
   ],
   "source": [
    "from dotenv import load_dotenv\n",
    "load_dotenv()"
   ]
  },
  {
   "cell_type": "markdown",
   "metadata": {},
   "source": [
    "# PDF Reading"
   ]
  },
  {
   "cell_type": "code",
   "execution_count": 2,
   "metadata": {},
   "outputs": [],
   "source": [
    "from PyPDF2 import PdfReader"
   ]
  },
  {
   "cell_type": "code",
   "execution_count": 3,
   "metadata": {},
   "outputs": [],
   "source": [
    "SOURCES = \"./sources/\"\n",
    "PRINCIPLES = \"NHRC-PDF-Principles_Of_Harm_Reduction.pdf\""
   ]
  },
  {
   "cell_type": "code",
   "execution_count": 4,
   "metadata": {},
   "outputs": [],
   "source": [
    "pdf_reader = PdfReader(SOURCES + PRINCIPLES)"
   ]
  },
  {
   "cell_type": "code",
   "execution_count": 50,
   "metadata": {},
   "outputs": [],
   "source": [
    "principles_text = \"\"\n",
    "for page in pdf_reader.pages:\n",
    "    text = page.extract_text()\n",
    "    if text:\n",
    "        principles_text += text"
   ]
  },
  {
   "cell_type": "markdown",
   "metadata": {},
   "source": [
    "# Chunking"
   ]
  },
  {
   "cell_type": "code",
   "execution_count": 6,
   "metadata": {},
   "outputs": [],
   "source": [
    "from langchain.text_splitter import  RecursiveCharacterTextSplitter"
   ]
  },
  {
   "cell_type": "code",
   "execution_count": 51,
   "metadata": {},
   "outputs": [],
   "source": [
    "text_splitter = RecursiveCharacterTextSplitter(\n",
    "    chunk_size = 512,\n",
    "    chunk_overlap  = 32,\n",
    "    length_function = len,\n",
    ")\n",
    "principles_chunks = text_splitter.create_documents([principles_text])\n"
   ]
  },
  {
   "cell_type": "markdown",
   "metadata": {},
   "source": [
    "# Vector DB"
   ]
  },
  {
   "cell_type": "code",
   "execution_count": 24,
   "metadata": {},
   "outputs": [],
   "source": [
    "from langchain.embeddings.openai import OpenAIEmbeddings\n",
    "from langchain_community.vectorstores import Chroma"
   ]
  },
  {
   "cell_type": "code",
   "execution_count": 52,
   "metadata": {},
   "outputs": [],
   "source": [
    "embeddings = OpenAIEmbeddings() # Embeddings model\n",
    "vectorstore = Chroma.from_documents(documents=principles_chunks, embedding=OpenAIEmbeddings(), persist_directory=\"./chroma_db\")\n",
    "retriever = vectorstore.as_retriever()"
   ]
  },
  {
   "cell_type": "markdown",
   "metadata": {},
   "source": [
    "# Chain"
   ]
  },
  {
   "cell_type": "code",
   "execution_count": 60,
   "metadata": {},
   "outputs": [],
   "source": [
    "from langchain.llms import OpenAI\n",
    "from langchain_core.output_parsers import StrOutputParser\n",
    "from langchain_core.prompts import ChatPromptTemplate\n",
    "from langchain_core.runnables import RunnablePassthrough\n",
    "from langchain_openai import ChatOpenAI, OpenAIEmbeddings\n",
    "from langchain.memory import ConversationBufferMemory\n",
    "\n"
   ]
  },
  {
   "cell_type": "code",
   "execution_count": 166,
   "metadata": {},
   "outputs": [],
   "source": [
    "\n",
    "template = \"\"\"Answer the question based on the context and the chat history:\n",
    "context: \n",
    "{context}\n",
    "\n",
    "Question: {question}\n",
    "\n",
    "Chat history: {chat_history}\n",
    "\"\"\"\n",
    "prompt = ChatPromptTemplate.from_template(template)\n",
    "llm = ChatOpenAI(model_name=\"gpt-3.5-turbo\", temperature=0)"
   ]
  },
  {
   "cell_type": "code",
   "execution_count": 167,
   "metadata": {},
   "outputs": [],
   "source": [
    "memory = ConversationBufferMemory(memory_key=\"chat_history\", return_messages=True)"
   ]
  },
  {
   "cell_type": "code",
   "execution_count": 168,
   "metadata": {},
   "outputs": [],
   "source": [
    "from langchain_core.runnables import RunnableParallel\n",
    "\n",
    "memory = ConversationBufferMemory(memory_key=\"chat_history\", return_messages=True)\n",
    "\n",
    "\n",
    "def format_docs(docs):\n",
    "    return \"\\n\\n\".join(doc.page_content for doc in docs)\n",
    "\n",
    "def get_memory(memory):\n",
    "    history = memory[\"chat_history\"]\n",
    "    l = []\n",
    "    if history:\n",
    "        for n, message in enumerate(history):\n",
    "            if n % 2 == 0:\n",
    "                l.append(f\"Human: {message.content}\")\n",
    "            else:\n",
    "                l.append(f\"AI: {message.content}\")\n",
    "            \n",
    "        return \"\\n\\n\".join(l)\n",
    "    else:\n",
    "        return \"\"\n",
    "\n",
    "rag_chain_from_docs = (\n",
    "    RunnablePassthrough.assign(context=(lambda x: format_docs(x[\"context\"])))\n",
    "    | RunnablePassthrough.assign(history=(lambda x: get_memory(x[\"chat_history\"])))\n",
    "    | prompt\n",
    "    | llm\n",
    "    | StrOutputParser()\n",
    ")\n",
    "\n",
    "rag_chain_with_source = RunnableParallel(\n",
    "    {\"context\": retriever, \"question\": RunnablePassthrough(), \"chat_history\": memory.load_memory_variables}\n",
    ").assign(answer=rag_chain_from_docs)\n",
    "\n"
   ]
  },
  {
   "cell_type": "code",
   "execution_count": 169,
   "metadata": {},
   "outputs": [],
   "source": [
    "output = rag_chain_with_source.invoke(\"What are the harm reduction principles?\")\n"
   ]
  },
  {
   "cell_type": "code",
   "execution_count": 170,
   "metadata": {},
   "outputs": [
    {
     "data": {
      "text/plain": [
       "{'context': [Document(page_content='FOUNDATIONAL  PRINCIPLES CENTRAL TO HARM REDUCTIONHarm reduction is a set of \\npractical strategies and ideas aimed at reducing negative consequences associated with drug use. \\nHarm Reduction is also a \\nmovement for social justice built on a belief in, and respect for, the rights of people who use drugs.Harm reduction incorporates a spectrum of strategies that includes'),\n",
       "  Document(page_content='safer use, managed use, abstinence, meeting people who use drugs “where they’re at,” and addressing conditions of use along with the use itself. Because harm reduction demands that interventions and policies designed to serve people who use drugs reflect specific individual and community needs, there is no universal definition of or formula for implementing harm reduction.\\nHowever, National Harm Reduction Coalition considers the following \\nprinciples central to harm reduction practice:'),\n",
       "  Document(page_content='FOR MORE RESOURCES, VISIT   HARMREDUCTION.ORG\\n/HarmReductionCoalitionRevised 2020\\n/HarmReductionCoalition @harmreduction @harmreductionAccepts, for better or worse, that licit and illicit drug use is part of our world and chooses to work to minimize its harmful effects rather than simply ignore or condemn themPRINCIPLES OF HARM REDUCTIONFOUNDATIONS OF HARM REDUCTION\\nHARM REDUCTION   INTERVENTIONS\\nA philosophical and political'),\n",
       "  Document(page_content='Affirms people who use drugs (PWUD) themselves as the primary agents of reducing the harms of their drug use and seeks to empower PWUD to share information and support each other in strategies which meet their actual conditions of use\\nRecognizes that the realities of poverty, class, racism, social isolation, past trauma, sex-based discrimination, and other social inequalities affect both people’s vulnerability to and capacity for effectively dealing with drug-related harm')],\n",
       " 'question': 'What are the harm reduction principles?',\n",
       " 'chat_history': {'chat_history': []},\n",
       " 'answer': 'Based on the given context, the harm reduction principles are as follows:\\n\\n1. Accepts, for better or worse, that licit and illicit drug use is part of our world and chooses to work to minimize its harmful effects rather than simply ignore or condemn them.\\n2. Affirms people who use drugs (PWUD) themselves as the primary agents of reducing the harms of their drug use and seeks to empower PWUD to share information and support each other in strategies which meet their actual conditions of use.\\n3. Recognizes that the realities of poverty, class, racism, social isolation, past trauma, sex-based discrimination, and other social inequalities affect both people’s vulnerability to and capacity for effectively dealing with drug-related harm.'}"
      ]
     },
     "execution_count": 170,
     "metadata": {},
     "output_type": "execute_result"
    }
   ],
   "source": [
    "output"
   ]
  },
  {
   "cell_type": "code",
   "execution_count": 171,
   "metadata": {},
   "outputs": [],
   "source": [
    "memory.save_context({\"input\":output[\"question\"]}, {\"output\": output[\"answer\"]})"
   ]
  },
  {
   "cell_type": "code",
   "execution_count": 172,
   "metadata": {},
   "outputs": [
    {
     "data": {
      "text/plain": [
       "{'context': [Document(page_content='b'),\n",
       "  Document(page_content='b'),\n",
       "  Document(page_content='b'),\n",
       "  Document(page_content='b')],\n",
       " 'question': 'What where my last question?',\n",
       " 'chat_history': {'chat_history': [HumanMessage(content='What are the harm reduction principles?'),\n",
       "   AIMessage(content='Based on the given context, the harm reduction principles are as follows:\\n\\n1. Accepts, for better or worse, that licit and illicit drug use is part of our world and chooses to work to minimize its harmful effects rather than simply ignore or condemn them.\\n2. Affirms people who use drugs (PWUD) themselves as the primary agents of reducing the harms of their drug use and seeks to empower PWUD to share information and support each other in strategies which meet their actual conditions of use.\\n3. Recognizes that the realities of poverty, class, racism, social isolation, past trauma, sex-based discrimination, and other social inequalities affect both people’s vulnerability to and capacity for effectively dealing with drug-related harm.')]},\n",
       " 'answer': 'Your last question was \"What are the harm reduction principles?\"'}"
      ]
     },
     "execution_count": 172,
     "metadata": {},
     "output_type": "execute_result"
    }
   ],
   "source": [
    "rag_chain_with_source.invoke(\"What was my last question?\")"
   ]
  },
  {
   "cell_type": "code",
   "execution_count": 174,
   "metadata": {},
   "outputs": [
    {
     "data": {
      "text/plain": [
       "{'context': [Document(page_content='FOUNDATIONAL  PRINCIPLES CENTRAL TO HARM REDUCTIONHarm reduction is a set of \\npractical strategies and ideas aimed at reducing negative consequences associated with drug use. \\nHarm Reduction is also a \\nmovement for social justice built on a belief in, and respect for, the rights of people who use drugs.Harm reduction incorporates a spectrum of strategies that includes'),\n",
       "  Document(page_content='FOR MORE RESOURCES, VISIT   HARMREDUCTION.ORG\\n/HarmReductionCoalitionRevised 2020\\n/HarmReductionCoalition @harmreduction @harmreductionAccepts, for better or worse, that licit and illicit drug use is part of our world and chooses to work to minimize its harmful effects rather than simply ignore or condemn themPRINCIPLES OF HARM REDUCTIONFOUNDATIONS OF HARM REDUCTION\\nHARM REDUCTION   INTERVENTIONS\\nA philosophical and political'),\n",
       "  Document(page_content='safer use, managed use, abstinence, meeting people who use drugs “where they’re at,” and addressing conditions of use along with the use itself. Because harm reduction demands that interventions and policies designed to serve people who use drugs reflect specific individual and community needs, there is no universal definition of or formula for implementing harm reduction.\\nHowever, National Harm Reduction Coalition considers the following \\nprinciples central to harm reduction practice:'),\n",
       "  Document(page_content='a')],\n",
       " 'question': 'cuáles son los principios de la reducción de daños?',\n",
       " 'chat_history': {'chat_history': [HumanMessage(content='What are the harm reduction principles?'),\n",
       "   AIMessage(content='Based on the given context, the harm reduction principles are as follows:\\n\\n1. Accepts, for better or worse, that licit and illicit drug use is part of our world and chooses to work to minimize its harmful effects rather than simply ignore or condemn them.\\n2. Affirms people who use drugs (PWUD) themselves as the primary agents of reducing the harms of their drug use and seeks to empower PWUD to share information and support each other in strategies which meet their actual conditions of use.\\n3. Recognizes that the realities of poverty, class, racism, social isolation, past trauma, sex-based discrimination, and other social inequalities affect both people’s vulnerability to and capacity for effectively dealing with drug-related harm.')]},\n",
       " 'answer': 'The harm reduction principles are as follows:\\n\\n1. Accepts, for better or worse, that licit and illicit drug use is part of our world and chooses to work to minimize its harmful effects rather than simply ignore or condemn them.\\n2. Affirms people who use drugs (PWUD) themselves as the primary agents of reducing the harms of their drug use and seeks to empower PWUD to share information and support each other in strategies which meet their actual conditions of use.\\n3. Recognizes that the realities of poverty, class, racism, social isolation, past trauma, sex-based discrimination, and other social inequalities affect both people’s vulnerability to and capacity for effectively dealing with drug-related harm.'}"
      ]
     },
     "execution_count": 174,
     "metadata": {},
     "output_type": "execute_result"
    }
   ],
   "source": [
    "rag_chain_with_source.invoke(\"cuáles son los principios de la reducción de daños?\")"
   ]
  },
  {
   "cell_type": "markdown",
   "metadata": {},
   "source": [
    "# More sources"
   ]
  },
  {
   "cell_type": "code",
   "execution_count": 150,
   "metadata": {},
   "outputs": [],
   "source": [
    "\n",
    "from langchain_community.document_loaders.recursive_url_loader import RecursiveUrlLoader\n",
    "\n",
    "from bs4 import BeautifulSoup as Soup\n",
    "\n",
    "url = \"https://js.langchain.com/docs/modules/memory/integrations/\"\n",
    "loader = RecursiveUrlLoader(\n",
    "    url=url, max_depth=6\n",
    ")\n",
    "docs = loader.load()"
   ]
  },
  {
   "cell_type": "code",
   "execution_count": 151,
   "metadata": {},
   "outputs": [
    {
     "data": {
      "text/plain": [
       "1"
      ]
     },
     "execution_count": 151,
     "metadata": {},
     "output_type": "execute_result"
    }
   ],
   "source": [
    "len(docs)"
   ]
  }
 ],
 "metadata": {
  "kernelspec": {
   "display_name": ".venv",
   "language": "python",
   "name": "python3"
  },
  "language_info": {
   "codemirror_mode": {
    "name": "ipython",
    "version": 3
   },
   "file_extension": ".py",
   "mimetype": "text/x-python",
   "name": "python",
   "nbconvert_exporter": "python",
   "pygments_lexer": "ipython3",
   "version": "3.10.12"
  }
 },
 "nbformat": 4,
 "nbformat_minor": 2
}
